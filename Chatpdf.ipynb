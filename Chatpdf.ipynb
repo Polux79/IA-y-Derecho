{
  "cells": [
    {
      "cell_type": "markdown",
      "metadata": {
        "id": "view-in-github",
        "colab_type": "text"
      },
      "source": [
        "<a href=\"https://colab.research.google.com/github/Polux79/IA-y-Derecho/blob/main/Chatpdf.ipynb\" target=\"_parent\"><img src=\"https://colab.research.google.com/assets/colab-badge.svg\" alt=\"Open In Colab\"/></a>"
      ]
    },
    {
      "cell_type": "code",
      "execution_count": null,
      "metadata": {
        "id": "3nH9k8FvBQoX"
      },
      "outputs": [],
      "source": [
        "!pip install PyPDF2\n",
        "\n",
        "!pip install openai\n",
        "\n",
        "#Interactuar con LLMs\n",
        "!pip install langchain\n",
        "\n",
        "#Chunks e indexar\n",
        "!pip install llama-index"
      ]
    },
    {
      "cell_type": "code",
      "execution_count": 2,
      "metadata": {
        "id": "CLwbbDlN88YY"
      },
      "outputs": [],
      "source": [
        "import os\n",
        "import openai\n",
        "#from llama_index import GPTSimpleVectorIndex, SimpleDirectoryReader, LLMPredictor, ServiceContext\n",
        "from llama_index import GPTVectorStoreIndex, SimpleDirectoryReader, LLMPredictor, ServiceContext\n",
        "from langchain.chat_models import ChatOpenAI\n",
        "import textwrap"
      ]
    },
    {
      "cell_type": "code",
      "execution_count": null,
      "metadata": {
        "id": "wC7GkUZB9qdI"
      },
      "outputs": [],
      "source": [
        "#Cámbiala por tu API de OpenAI\n",
        "os.environ[\"OPENAI_API_KEY\"] = 'sk-0PClsX5tp9F44TExvSC0BK8Nupi'#Cambia por tu clave personal"
      ]
    },
    {
      "cell_type": "code",
      "execution_count": 11,
      "metadata": {
        "id": "G_t2zRnOMef3"
      },
      "outputs": [],
      "source": [
        "#Leer los PDFs\n",
        "pdf = SimpleDirectoryReader('datos').load_data()"
      ]
    },
    {
      "cell_type": "code",
      "execution_count": 12,
      "metadata": {
        "id": "KmoBTlt2JfLD"
      },
      "outputs": [],
      "source": [
        "#Definir e instanciar el modelo\n",
        "modelo = LLMPredictor(llm=ChatOpenAI(temperature=0, model_name='gpt-3.5-turbo'))"
      ]
    },
    {
      "cell_type": "code",
      "execution_count": 18,
      "metadata": {
        "id": "UKBH2pj0AgmP",
        "outputId": "fdf94718-97cd-4093-d021-67fd4c698607",
        "colab": {
          "base_uri": "https://localhost:8080/"
        }
      },
      "outputs": [
        {
          "output_type": "stream",
          "name": "stderr",
          "text": [
            "WARNING:llama_index.llm_predictor.base:Unknown max input size for gpt-3.5-turbo, using defaults.\n"
          ]
        }
      ],
      "source": [
        "#Indexar el contenido de los PDFs\n",
        "service_context = ServiceContext.from_defaults(llm_predictor = modelo)\n",
        "index = GPTVectorStoreIndex.from_documents(pdf, service_context = service_context)"
      ]
    },
    {
      "cell_type": "code",
      "execution_count": null,
      "metadata": {
        "id": "FbaK0WFwB5X_"
      },
      "outputs": [],
      "source": [
        "#Guardar el índice a disco para no tener que repetir cada vez\n",
        "#Recordar que necesistaríamos persistir el drive para que lo mantenga\n",
        "#index.save_to_disk('index.json')"
      ]
    },
    {
      "cell_type": "code",
      "execution_count": null,
      "metadata": {
        "id": "2ByXL3cnCgvd"
      },
      "outputs": [],
      "source": [
        "#Cargar el índice del disco\n",
        "#index = GPTSimpleVectorIndex.load_from_disk('index.json')"
      ]
    },
    {
      "cell_type": "code",
      "execution_count": null,
      "metadata": {
        "id": "juCQTxHMDMlf"
      },
      "outputs": [],
      "source": [
        "while True:\n",
        "  pregunta = input('Escribe tu pregunta   \\n') + \"Responde en español\"\n",
        "  respuesta = index.as_query_engine().query(pregunta)\n",
        "  for frase in textwrap.wrap(respuesta.response, width=100):\n",
        "    print(frase)"
      ]
    }
  ],
  "metadata": {
    "colab": {
      "provenance": [],
      "include_colab_link": true
    },
    "kernelspec": {
      "display_name": "Python 3",
      "name": "python3"
    },
    "language_info": {
      "name": "python"
    }
  },
  "nbformat": 4,
  "nbformat_minor": 0
}
